{
  "nbformat": 4,
  "nbformat_minor": 0,
  "metadata": {
    "colab": {
      "provenance": [],
      "authorship_tag": "ABX9TyO1hL76spE6KcxiWSTLMuvD",
      "include_colab_link": true
    },
    "kernelspec": {
      "name": "python3",
      "display_name": "Python 3"
    },
    "language_info": {
      "name": "python"
    }
  },
  "cells": [
    {
      "cell_type": "markdown",
      "metadata": {
        "id": "view-in-github",
        "colab_type": "text"
      },
      "source": [
        "<a href=\"https://colab.research.google.com/github/y2om/Colab/blob/main/3%EC%9D%BC%EC%B0%A8.ipynb\" target=\"_parent\"><img src=\"https://colab.research.google.com/assets/colab-badge.svg\" alt=\"Open In Colab\"/></a>"
      ]
    },
    {
      "cell_type": "markdown",
      "source": [
        "3일차\n",
        "\n",
        "클래스\n",
        "* 객체지향 : 객체 간의 상호작용으로서 시스템의 행동을 파악하는 사고방식\n",
        "클래스 : 설계도\n",
        "인스턴스 : 설계도로 만들어진 제품\n",
        "\n",
        "클래스 :class로 사용하여 클래스에는 여러 개의 메소드가 포함됨\n",
        "메소드는 함수와 비슷하며, def로 기술을 시작\n",
        "파이썬의 메소드에서는 첫 번째 인수로서 self를 받는 특징이 있다. self를 이용해 이른바 인스턴스 변수에 접근 가능 인스턴스 변수는 클래스로부터 생성한 인스턴스가 보유하는 변수\n",
        "__init__()는 특수한 메소드로 이니셜라이저 혹은 생성자라고 함 . 이것으 인스턴스 생성 시에 인스턴스의 초기 설정을 할 수 있다. 상기의 클래스에서는 self.a=a로 인수로서 받은 값을 인스턴스 변수a에 대입한다.\n",
        "add()메소드와 multiply()메소드에서는 인수로 받은 값과 인스턴스 변수a와의 사이에서 연산하고 있다.\n",
        "\n",
        "클래스에는 상속이라는 개념이 있음 클래스를 상속함으로써 기존의 클래스를 상속받은 후에 새로운 클래스를 정의 가능\n",
        "\n",
        "__call__() 메소드를 사용하면 메소드 명을 기술할 필요가 없어진다. 빈번히 이용하는 처리를 메소드에 기술하는 것으로 코드의 기술이 줄어든다.\n",
        "\n",
        "with구문 : 파일 읽기 및 저장을 간결하게 기술할 수 있다.\n",
        "\n",
        "Numpy: 딥러닝 코드에서 빈번히 사용하는 파이썬 확장 모듈\n",
        "import numpy as np->이렇게 코드의 맨앞에 기술해 사용 가능\n",
        "배열 : 인공지능, 딥러닝 계산에는 여러 개의 수치를 사용하는데, 이러한 수치를 저장하기 위해서 numpy 배열을 자주 사용\n",
        "\n",
        "shape(): 배열의 형태를 얻음\n",
        "reshape() : 배열의 형태를 변환->reshape(-1)과 같이 인수에 -1을 건넴으로써 어떤 배열이라도 1차원 배열으로 변환 가능\n",
        "sum : 합계\n",
        "average : 평균\n",
        "min : 최솟값\n",
        "max : 최댓값\n",
        "axis를 지정하면 특정 방향으로 연산 가능 ex. axis=0-> 세로, axis=1-> 가로"
      ],
      "metadata": {
        "id": "YJ8trln6-43E"
      }
    },
    {
      "cell_type": "code",
      "execution_count": 2,
      "metadata": {
        "id": "pHXEXsPfy1g_"
      },
      "outputs": [],
      "source": [
        "class Calc :\n",
        "  def __init__(self,a):\n",
        "    self.a=a\n",
        "\n",
        "  def add(self,b):\n",
        "    print(self.a+b)\n",
        "\n",
        "  def multiply(self,b):\n",
        "    print(self.a*b)\n"
      ]
    },
    {
      "cell_type": "code",
      "source": [
        "calc=Calc(4)  #초기값을 4로 지정\n",
        "calc.add(5)   #초기값에 5를 더함\n",
        "calc.multiply(4)  #4x4"
      ],
      "metadata": {
        "colab": {
          "base_uri": "https://localhost:8080/"
        },
        "id": "S9vJLp9V0XVS",
        "outputId": "68489bd9-c913-4c88-cfa9-d19601471d3b"
      },
      "execution_count": 3,
      "outputs": [
        {
          "output_type": "stream",
          "name": "stdout",
          "text": [
            "9\n",
            "16\n"
          ]
        }
      ]
    },
    {
      "cell_type": "code",
      "source": [
        "class CalcNext(Calc):\n",
        "  def subtract(self,b):\n",
        "    print(self.a-b)\n",
        "  def divide(self,b):\n",
        "    print(self.a/b)"
      ],
      "metadata": {
        "id": "jTrHCCGi1aXo"
      },
      "execution_count": 5,
      "outputs": []
    },
    {
      "cell_type": "code",
      "source": [
        "calc_next=CalcNext(4)\n",
        "calc_next.add(5)\n",
        "calc_next.multiply(5)\n",
        "calc_next.subtract(5)\n",
        "calc_next.divide(5)"
      ],
      "metadata": {
        "colab": {
          "base_uri": "https://localhost:8080/"
        },
        "id": "WlAdavcY2ATo",
        "outputId": "669e5003-2984-4784-89a6-45a35c286145"
      },
      "execution_count": 6,
      "outputs": [
        {
          "output_type": "stream",
          "name": "stdout",
          "text": [
            "9\n",
            "20\n",
            "-1\n",
            "0.8\n"
          ]
        }
      ]
    },
    {
      "cell_type": "code",
      "source": [
        "class Calc:\n",
        "  def __init__(self,a):\n",
        "    self.a=a\n",
        "\n",
        "  def __call__(self,c):\n",
        "    print(self.a*c+c)\n",
        "\n",
        "  def add(self,b):\n",
        "    print(self.a+b)\n",
        "\n",
        "  def multiply(self,b):\n",
        "    print(self.a+b)"
      ],
      "metadata": {
        "id": "5rPIMgc32jxl"
      },
      "execution_count": 10,
      "outputs": []
    },
    {
      "cell_type": "code",
      "source": [
        "cl=Calc(3)\n",
        "cl(5)"
      ],
      "metadata": {
        "colab": {
          "base_uri": "https://localhost:8080/"
        },
        "id": "kwivozzb3C78",
        "outputId": "e74a04d6-2dcc-4ecc-b3ad-231f24ac5e7a"
      },
      "execution_count": 11,
      "outputs": [
        {
          "output_type": "stream",
          "name": "stdout",
          "text": [
            "20\n"
          ]
        }
      ]
    },
    {
      "cell_type": "code",
      "source": [
        "greetings='Good morning!\\nGood afternoon!\\nGood evening!\\nGood night!'\n",
        "with open('greetings.txt','w') as f:\n",
        "  f.write(greetings)"
      ],
      "metadata": {
        "id": "BSCyeKYY3XlX"
      },
      "execution_count": 16,
      "outputs": []
    },
    {
      "cell_type": "code",
      "source": [
        "with open('greetings.txt','r')as f:\n",
        "  print(f.read())\n",
        ""
      ],
      "metadata": {
        "colab": {
          "base_uri": "https://localhost:8080/"
        },
        "id": "XtkI5B634B3Q",
        "outputId": "d79b49cf-f69e-4c96-9842-8a5f70300062"
      },
      "execution_count": 17,
      "outputs": [
        {
          "output_type": "stream",
          "name": "stdout",
          "text": [
            "Good morning!\n",
            "Good afternoon!\n",
            "Good evening!\n",
            "Good night!\n"
          ]
        }
      ]
    },
    {
      "cell_type": "code",
      "source": [
        "import numpy as np\n",
        "a=np.array([0,1,2,3,4,5])\n",
        "print(a)"
      ],
      "metadata": {
        "colab": {
          "base_uri": "https://localhost:8080/"
        },
        "id": "Am_QepG-5Jcj",
        "outputId": "9f359f1f-3d18-4e81-d017-20592ee88744"
      },
      "execution_count": 18,
      "outputs": [
        {
          "output_type": "stream",
          "name": "stdout",
          "text": [
            "[0 1 2 3 4 5]\n"
          ]
        }
      ]
    },
    {
      "cell_type": "code",
      "source": [
        "import numpy as np\n",
        "b=np.array([[0,1,2],[3,4,5]])\n",
        "print(b)  #2차원 배열"
      ],
      "metadata": {
        "colab": {
          "base_uri": "https://localhost:8080/"
        },
        "id": "PRXxexh_5RVc",
        "outputId": "41671a0d-f155-4f57-9d93-854883348928"
      },
      "execution_count": 19,
      "outputs": [
        {
          "output_type": "stream",
          "name": "stdout",
          "text": [
            "[[0 1 2]\n",
            " [3 4 5]]\n"
          ]
        }
      ]
    },
    {
      "cell_type": "code",
      "source": [
        "import numpy as np\n",
        "c=np.array([[[0,1,2,],[1,2,3]],[[2,3,4],[3,4,5]]])\n",
        "print(c)"
      ],
      "metadata": {
        "colab": {
          "base_uri": "https://localhost:8080/"
        },
        "id": "BWpb1BDO5akg",
        "outputId": "dbacc425-c4a9-4d80-a2b3-030eee425eea"
      },
      "execution_count": 21,
      "outputs": [
        {
          "output_type": "stream",
          "name": "stdout",
          "text": [
            "[[[0 1 2]\n",
            "  [1 2 3]]\n",
            "\n",
            " [[2 3 4]\n",
            "  [3 4 5]]]\n"
          ]
        }
      ]
    },
    {
      "cell_type": "code",
      "source": [
        "import numpy as np\n",
        "a=np.array([[0,1,2],[3,4,5]])\n",
        "print(a)\n",
        "print() #빈칸 만들려고 출력\n",
        "print(a+2)\n",
        "print()\n",
        "print(a*2)"
      ],
      "metadata": {
        "colab": {
          "base_uri": "https://localhost:8080/"
        },
        "id": "LueUVdm45vem",
        "outputId": "13d0a600-388d-4ea6-b0f9-7ede0e36ffca"
      },
      "execution_count": 24,
      "outputs": [
        {
          "output_type": "stream",
          "name": "stdout",
          "text": [
            "[[0 1 2]\n",
            " [3 4 5]]\n",
            "\n",
            "[[2 3 4]\n",
            " [5 6 7]]\n",
            "\n",
            "[[ 0  2  4]\n",
            " [ 6  8 10]]\n"
          ]
        }
      ]
    },
    {
      "cell_type": "code",
      "source": [
        "b=np.array([[0,1,2],[3,4,5]])\n",
        "c=np.array([[1,2,3],[4,5,6]])\n",
        "print(b)\n",
        "print()\n",
        "print(c)\n",
        "print()\n",
        "print(b+c)\n",
        "print()\n",
        "print(b*c)"
      ],
      "metadata": {
        "colab": {
          "base_uri": "https://localhost:8080/"
        },
        "id": "k0xrYHp96BJN",
        "outputId": "39a33df6-4f21-42e1-d411-09881b657bdd"
      },
      "execution_count": 25,
      "outputs": [
        {
          "output_type": "stream",
          "name": "stdout",
          "text": [
            "[[0 1 2]\n",
            " [3 4 5]]\n",
            "\n",
            "[[1 2 3]\n",
            " [4 5 6]]\n",
            "\n",
            "[[ 1  3  5]\n",
            " [ 7  9 11]]\n",
            "\n",
            "[[ 0  2  6]\n",
            " [12 20 30]]\n"
          ]
        }
      ]
    },
    {
      "cell_type": "code",
      "source": [
        "d=np.array([[1,1],[1,1]])\n",
        "e=np.array([1,2])\n",
        "print(d)\n",
        "print()\n",
        "print(e)\n",
        "print()\n",
        "print(d+e)"
      ],
      "metadata": {
        "colab": {
          "base_uri": "https://localhost:8080/"
        },
        "id": "AljdtnHJ6bW9",
        "outputId": "b81ffdc8-f4c1-4fa6-c8bf-18942294a39e"
      },
      "execution_count": 26,
      "outputs": [
        {
          "output_type": "stream",
          "name": "stdout",
          "text": [
            "[[1 1]\n",
            " [1 1]]\n",
            "\n",
            "[1 2]\n",
            "\n",
            "[[2 3]\n",
            " [2 3]]\n"
          ]
        }
      ]
    },
    {
      "cell_type": "code",
      "source": [
        "import numpy as np\n",
        "a= np.array([[0,1,2],[3,4,5]])\n",
        "print(a.shape)    #2행 3열"
      ],
      "metadata": {
        "colab": {
          "base_uri": "https://localhost:8080/"
        },
        "id": "4sGxuYmZ68V7",
        "outputId": "87368ede-bc0e-449c-b868-34f3b27b8167"
      },
      "execution_count": 27,
      "outputs": [
        {
          "output_type": "stream",
          "name": "stdout",
          "text": [
            "(2, 3)\n"
          ]
        }
      ]
    },
    {
      "cell_type": "code",
      "source": [
        "b=np.array([0,1,2,3,4,5,6,7,8,9,10,11])\n",
        "c=b.reshape(3,4)\n",
        "\n",
        "print(b)\n",
        "print()\n",
        "print(c)"
      ],
      "metadata": {
        "colab": {
          "base_uri": "https://localhost:8080/"
        },
        "id": "v1bbwoOf7JWv",
        "outputId": "6dbdcafa-2127-4190-ea66-bf6b42d3a908"
      },
      "execution_count": 28,
      "outputs": [
        {
          "output_type": "stream",
          "name": "stdout",
          "text": [
            "[ 0  1  2  3  4  5  6  7  8  9 10 11]\n",
            "\n",
            "[[ 0  1  2  3]\n",
            " [ 4  5  6  7]\n",
            " [ 8  9 10 11]]\n"
          ]
        }
      ]
    },
    {
      "cell_type": "code",
      "source": [
        "import numpy as np\n",
        "a=np.array([0,1,2,3,4,5])\n",
        "print(a[3])"
      ],
      "metadata": {
        "colab": {
          "base_uri": "https://localhost:8080/"
        },
        "id": "3gFU7ScG7xTc",
        "outputId": "03254c4a-1dc1-4764-f76b-4ea1fb89c8f4"
      },
      "execution_count": 29,
      "outputs": [
        {
          "output_type": "stream",
          "name": "stdout",
          "text": [
            "3\n"
          ]
        }
      ]
    },
    {
      "cell_type": "code",
      "source": [
        "import numpy as np\n",
        "a=np.array([0,1,2,3,4,5])\n",
        "a[3]=99\n",
        "print(a)"
      ],
      "metadata": {
        "colab": {
          "base_uri": "https://localhost:8080/"
        },
        "id": "KZzPjkCv76MZ",
        "outputId": "50dcd108-8dc8-4ffb-8303-46c2395f6c21"
      },
      "execution_count": 30,
      "outputs": [
        {
          "output_type": "stream",
          "name": "stdout",
          "text": [
            "[ 0  1  2 99  4  5]\n"
          ]
        }
      ]
    },
    {
      "cell_type": "code",
      "source": [
        "import numpy as np\n",
        "a=np.array([[0,1,2],[3,4,5]])\n",
        "print(a[1,0])"
      ],
      "metadata": {
        "colab": {
          "base_uri": "https://localhost:8080/"
        },
        "id": "0pVuh7jH8M00",
        "outputId": "89322189-6d20-4ecf-c1e6-ce644fdd2832"
      },
      "execution_count": 32,
      "outputs": [
        {
          "output_type": "stream",
          "name": "stdout",
          "text": [
            "3\n"
          ]
        }
      ]
    },
    {
      "cell_type": "code",
      "source": [
        "import numpy as np\n",
        "a=np.array([[0,1,2],[3,4,5]])\n",
        "a[1,2]=99\n",
        "print(a)"
      ],
      "metadata": {
        "colab": {
          "base_uri": "https://localhost:8080/"
        },
        "id": "vX0kYc6R8bqe",
        "outputId": "a6d3c036-754f-433c-a3c3-5a221a047edd"
      },
      "execution_count": 35,
      "outputs": [
        {
          "output_type": "stream",
          "name": "stdout",
          "text": [
            "[[ 0  1  2]\n",
            " [ 3  4 99]]\n"
          ]
        }
      ]
    },
    {
      "cell_type": "code",
      "source": [
        "import numpy as np\n",
        "def a_func(x):\n",
        "  y=x*2+1\n",
        "  return y\n",
        "a=np.array([[0,1,2],[3,4,5]])\n",
        "b=a_func(a)\n",
        "print(a)\n",
        "print()\n",
        "print(b)"
      ],
      "metadata": {
        "colab": {
          "base_uri": "https://localhost:8080/"
        },
        "id": "ZAeRUFig9New",
        "outputId": "3acec160-df3c-4467-c1c8-f567fadfe709"
      },
      "execution_count": 37,
      "outputs": [
        {
          "output_type": "stream",
          "name": "stdout",
          "text": [
            "[[0 1 2]\n",
            " [3 4 5]]\n",
            "\n",
            "[[ 1  3  5]\n",
            " [ 7  9 11]]\n"
          ]
        }
      ]
    },
    {
      "cell_type": "code",
      "source": [
        "import numpy as np\n",
        "a=np.array([[1,2,3],[4,5,6]])\n",
        "print(np.sum(a))\n",
        "print(np.average(a))\n",
        "print(np.min(a))\n",
        "print(np.max(a))"
      ],
      "metadata": {
        "colab": {
          "base_uri": "https://localhost:8080/"
        },
        "id": "hjFDQKtn9mbv",
        "outputId": "e46dd9ae-ce76-4c80-a184-3e17648ebe0b"
      },
      "execution_count": 39,
      "outputs": [
        {
          "output_type": "stream",
          "name": "stdout",
          "text": [
            "21\n",
            "3.5\n",
            "1\n",
            "6\n"
          ]
        }
      ]
    },
    {
      "cell_type": "code",
      "source": [
        "import numpy as np\n",
        "a=np.array([[1,2,3],[4,5,6]])\n",
        "print(np.average(a,axis=0))\n",
        "print(np.average(a,axis=1))"
      ],
      "metadata": {
        "colab": {
          "base_uri": "https://localhost:8080/"
        },
        "id": "K8rUrpR3-Nki",
        "outputId": "99298ead-a2fc-486d-81ea-2929ae4b99df"
      },
      "execution_count": 40,
      "outputs": [
        {
          "output_type": "stream",
          "name": "stdout",
          "text": [
            "[2.5 3.5 4.5]\n",
            "[2. 5.]\n"
          ]
        }
      ]
    }
  ]
}