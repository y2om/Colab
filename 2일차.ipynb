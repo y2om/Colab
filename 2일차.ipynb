{
  "nbformat": 4,
  "nbformat_minor": 0,
  "metadata": {
    "colab": {
      "provenance": [],
      "authorship_tag": "ABX9TyMuGgn4hrUZvA8m+rECt0cw",
      "include_colab_link": true
    },
    "kernelspec": {
      "name": "python3",
      "display_name": "Python 3"
    },
    "language_info": {
      "name": "python"
    }
  },
  "cells": [
    {
      "cell_type": "markdown",
      "metadata": {
        "id": "view-in-github",
        "colab_type": "text"
      },
      "source": [
        "<a href=\"https://colab.research.google.com/github/y2om/Colab/blob/main/2%EC%9D%BC%EC%B0%A8.ipynb\" target=\"_parent\"><img src=\"https://colab.research.google.com/assets/colab-badge.svg\" alt=\"Open In Colab\"/></a>"
      ]
    },
    {
      "cell_type": "markdown",
      "source": [
        "2일차\n",
        "\n",
        "세트 : 세트는 리스트와 닮았는데 중복되는 값의 요소를 가질수 없다\n",
        "ex. 1,1,2,3,4,4,5,5 -> 1,2,3,4,5 가 나옴\n",
        "튜플과 달리 요소의 추가 및 삭제를 할수 있다.\n",
        "\n",
        "if문 : 분기를 할 수 있는 문장 -> if의 오른쪽 조건을 만족하지 않으면 elif의 오른쪽 조건이 위에서부터 차례대로 판정된다. 이 조건들이 모두 만족하지 않으면 else 내의 블록 처리가 실행된다.\n",
        "\n",
        "for 문\n",
        "지정한 횟수, 반복 처리를 시행하기 위해서는 for 문을 사용 반복하는 범위를 지정하기 위해서 리스트,range,in 연산자가 많이 사용\n",
        "range 사용법 : range([시작번호,],종료 번호 [,스텝 수])\n",
        "\n",
        "while 문\n",
        "어떤 조건을 만족하는 동안 반복 처리를 하고 싶을 때 사용\n",
        "\n",
        "내포 표기: 리스트의 요소를 조작한 후에 새로운 리스트를 작성하기 위한 기법\n",
        "for 나 while에 의한 반복 루프를 사용하는데 이용-> 간결하기 기술 가능\n",
        " 사용법 : 새로운 리스트=[요소에 대한 처리 for 요소 in 리스트]\n",
        "ex. b= [c*2+1 for c in a]\n",
        "print(b)\n",
        "\n",
        "함수 : 여러 행에 걸친 처리를 합칠 수 있음\n",
        "사용법 : def 다음 함수명 기술하여 직후의 ()안에 인수를 기술 return 다음의 값이 반환값\n",
        "인수 : 함수가 외부에서 받아오는 값\n",
        "반환값: 함수가 외부로 전달하는 값\n",
        "또한 *를 붙인 튜플을 사용해서 여러 개의 인수를 한번에 건넬 수 있다.\n",
        "\n",
        "변수의 범위 : 함수 안에 정의된 변수가 지역 변수, 함수 밖에 정의된 변수가 전역 변수다\n",
        "지역변수는 같은 함수 내에서만 접근 가능 but, 전역변수는 어디서든 접근 가능\n"
      ],
      "metadata": {
        "id": "8HpjcOJbZ_WS"
      }
    },
    {
      "cell_type": "code",
      "execution_count": 1,
      "metadata": {
        "colab": {
          "base_uri": "https://localhost:8080/"
        },
        "id": "HSzj44RJU08c",
        "outputId": "7a65e73f-85b3-4977-e45f-979c22674f82"
      },
      "outputs": [
        {
          "output_type": "stream",
          "name": "stdout",
          "text": [
            "[1, 1, 2, 3, 4, 4, 5, 5, 5]\n",
            "{1, 2, 3, 4, 5}\n",
            "{1, 2, 3, 4, 5, 6}\n",
            "{1, 2, 4, 5, 6}\n"
          ]
        }
      ],
      "source": [
        "a=[1,1,2,3,4,4,5,5,5]\n",
        "print(a)\n",
        "\n",
        "b=set(a)\n",
        "print(b)\n",
        "\n",
        "b.add(6)\n",
        "print(b)\n",
        "\n",
        "b.remove(3)\n",
        "print(b)"
      ]
    },
    {
      "cell_type": "code",
      "source": [
        "a=13\n",
        "if a<12:\n",
        "  print('Good morning')\n",
        "elif a<17:\n",
        "  print('Good afternoon!')\n",
        "elif a<21:\n",
        "  print('Good evening!')\n",
        "else:\n",
        "  print('Good night!')\n",
        ""
      ],
      "metadata": {
        "colab": {
          "base_uri": "https://localhost:8080/"
        },
        "id": "CvpzZPMqWW04",
        "outputId": "b050269d-0039-4982-cb22-3a749bf8c08c"
      },
      "execution_count": 2,
      "outputs": [
        {
          "output_type": "stream",
          "name": "stdout",
          "text": [
            "Good afternoon!\n"
          ]
        }
      ]
    },
    {
      "cell_type": "markdown",
      "source": [
        "for a in [3,5,9,17]:\n",
        "  print(a)\n",
        "\n",
        "for a in range(5):\n",
        "  print(a)"
      ],
      "metadata": {
        "id": "H3UdhUpYWqCG"
      }
    },
    {
      "cell_type": "code",
      "source": [
        "a=0\n",
        "while a<3:\n",
        "  print(a)\n",
        "  a+=1"
      ],
      "metadata": {
        "colab": {
          "base_uri": "https://localhost:8080/"
        },
        "id": "PncDltZGW4Kg",
        "outputId": "7148bd5d-d9c4-4ac6-ccd0-b6a87b8668e4"
      },
      "execution_count": 4,
      "outputs": [
        {
          "output_type": "stream",
          "name": "stdout",
          "text": [
            "0\n",
            "1\n",
            "2\n"
          ]
        }
      ]
    },
    {
      "cell_type": "code",
      "source": [
        "a=[1,2,3,4,5,6,7]\n",
        "b=[c*2+1 for c in a]  #a의 요소를 2배하고 1을 더해 새로운 리스트를 만든다\n",
        "print(b)\n"
      ],
      "metadata": {
        "colab": {
          "base_uri": "https://localhost:8080/"
        },
        "id": "Uo6zvD3EXg_z",
        "outputId": "55e20ee4-aa43-4a55-93e1-c7eff27eac91"
      },
      "execution_count": 5,
      "outputs": [
        {
          "output_type": "stream",
          "name": "stdout",
          "text": [
            "[3, 5, 7, 9, 11, 13, 15]\n"
          ]
        }
      ]
    },
    {
      "cell_type": "code",
      "source": [
        "def add(a,b):\n",
        "  c= a+b\n",
        "  return c\n",
        "print(add(2,3))"
      ],
      "metadata": {
        "colab": {
          "base_uri": "https://localhost:8080/"
        },
        "id": "1iXhXs6OYG1s",
        "outputId": "8bb43a88-9aef-4474-c47f-e26a8184c590"
      },
      "execution_count": 6,
      "outputs": [
        {
          "output_type": "stream",
          "name": "stdout",
          "text": [
            "5\n"
          ]
        }
      ]
    },
    {
      "cell_type": "code",
      "source": [
        "def add(a,b=4):\n",
        "  c=a+b\n",
        "  return c\n",
        "print(add(3))"
      ],
      "metadata": {
        "colab": {
          "base_uri": "https://localhost:8080/"
        },
        "id": "MFsw7EB_YOFR",
        "outputId": "05bef513-81e8-42ef-dc7a-1dd3f354a504"
      },
      "execution_count": 7,
      "outputs": [
        {
          "output_type": "stream",
          "name": "stdout",
          "text": [
            "7\n"
          ]
        }
      ]
    },
    {
      "cell_type": "code",
      "source": [
        "def add(a,b,c):\n",
        "  d=a+b+c\n",
        "  print(d)\n",
        "e=(2,4,6)\n",
        "add(*e)"
      ],
      "metadata": {
        "colab": {
          "base_uri": "https://localhost:8080/"
        },
        "id": "zhrrer_cYlsD",
        "outputId": "cdd6b6c5-f54e-41cd-d9c2-629dd36c1c52"
      },
      "execution_count": 8,
      "outputs": [
        {
          "output_type": "stream",
          "name": "stdout",
          "text": [
            "12\n"
          ]
        }
      ]
    },
    {
      "cell_type": "code",
      "source": [
        "a=21  # 전역 변수\n",
        "def showNumbers():\n",
        "  b=43    #지역 변수\n",
        "  print(a,b)\n",
        "showNumbers()"
      ],
      "metadata": {
        "colab": {
          "base_uri": "https://localhost:8080/"
        },
        "id": "eLedhtwjZmiT",
        "outputId": "ed7ddcfd-7fa5-4077-847a-7e52aefdc0e3"
      },
      "execution_count": 9,
      "outputs": [
        {
          "output_type": "stream",
          "name": "stdout",
          "text": [
            "21 43\n"
          ]
        }
      ]
    }
  ]
}