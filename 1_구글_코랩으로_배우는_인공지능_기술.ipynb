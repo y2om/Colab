{
  "nbformat": 4,
  "nbformat_minor": 0,
  "metadata": {
    "colab": {
      "provenance": [],
      "authorship_tag": "ABX9TyM1FgeKw+lfwfCZRv2giYwo",
      "include_colab_link": true
    },
    "kernelspec": {
      "name": "python3",
      "display_name": "Python 3"
    },
    "language_info": {
      "name": "python"
    }
  },
  "cells": [
    {
      "cell_type": "markdown",
      "metadata": {
        "id": "view-in-github",
        "colab_type": "text"
      },
      "source": [
        "<a href=\"https://colab.research.google.com/github/y2om/Colab/blob/main/1_%EA%B5%AC%EA%B8%80_%EC%BD%94%EB%9E%A9%EC%9C%BC%EB%A1%9C_%EB%B0%B0%EC%9A%B0%EB%8A%94_%EC%9D%B8%EA%B3%B5%EC%A7%80%EB%8A%A5_%EA%B8%B0%EC%88%A0.ipynb\" target=\"_parent\"><img src=\"https://colab.research.google.com/assets/colab-badge.svg\" alt=\"Open In Colab\"/></a>"
      ]
    },
    {
      "cell_type": "markdown",
      "source": [
        "1일차\n",
        "세션 : 어떤 활동을 계속해서 실시하고 있는 상태\n",
        "ex. 웹사이트 접속 -> 로그인에서 로그아웃까지의 상태\n",
        "활동 종료와 동시에 세션이 종료 되는 경우도 있음\n",
        "인스턴스 : 소프트웨어로서 구현된 가상적인 머신을 실행한 것\n",
        "ex. 코랩에서는 새로운 노트북을 열면 인스턴스 시작\n",
        "90분 규칙 : 노트북 세션이 끊기고 나서 90분이 경과하면 인스턴스가 소멸되는 규칙\n",
        "ex. 코랩에서는 새로운 노트북을 열고 인스턴스 시작 -> 브라우저 닫으면 세션 끊어짐 -> 끊어진후 90분 경과하면 인스턴스가 소멸\n",
        "이것을 해결하기 위해 구글 드라이브에 저장하거나 노트북을 항상 활성화로 유지\n",
        "12시간 규칙 : 새로운 인스턴스를 실행하고나서 12시간이 경과하면 인스턴스가 소멸\n",
        "이것을 해결하기 위해 학습중인 파라미터를 구글 드라이브에 저장하는 등 대책 세워야됨\n",
        "ex.코랩의 경우 런타임에서 세션관리를 선택하면 세션 목록 표시\n",
        "GPU: 컴퓨터의 중심적인 연산장치\n",
        "입력장치등으로부터 받은 데이터에 대해서 연산을 실시하며, 결과를 출력장치등으로 출력\n",
        "GPU: 이미지 처리에 특화한 연산 장치\n",
        "이미지처리에 정말 특화된 장치이지만 CPU보다도 병렬 연산성능이 뛰어나며 행렬 연산을 가장 잘 하므로 딥러닝에 많이 이용\n",
        "차이점 : 코어수 -> 코어는 실제로 연산 처리를 하는 곳으로, 코어수가 많으면 한번에 처리할 수 있는 작업수 많아짐\n",
        "ex. CPU : 코어수 2개-8개, GPU: 코어수 수천개\n",
        "GPU는 간단한 처리밖에 할 수 없지만, 많은 작업자가 동시에 작업하는 것으로 일에 따라서는 매우 효울적으로 작업을 진행 가능\n",
        "하지만 CPU는 컴퓨터 전체를 관리하는 범용 플레이어이다. 에플리케이션 , 메모리, 저장장치, 외부와의 인터페이스등 다양한 유형의 처리를 차례차례로 처리해야하며 작업을 빠른 속도로 처리\n",
        "GPU는 메모리에 순서대로 접근하고, 조건 분기가 없는 계산에 강한 특성이있음\n",
        "딥러닝에서는 매우 많은 행렬 연산이 필요하므로 GPU를 많이 사용\n",
        "TPU: 구글이 개발한 머신러닝에 특화한 특정 용도용 집적회로 특정 조건에서는 GPU보다도 빠른 처리 가능\n",
        "코랩에서의 GPU사용은 수정 ->노트설정-> GPU사용으로 변경\n",
        "스크래치 코드 셀 : 삽입-> 스크래치 코드 셀 을 선택하면 간편하게 코드를 적고 시험할수 있는 셀이 화면 오른쪽에 나타남\n",
        "코드 스니펫 : 삽입-> 코드 스니펫 을 선택하면 좀 더 다양한 코드의 스니펫을 노트북에 삽입할수 있음\n",
        "GitHub와의 연계\n",
        "깃은 프로그래밍에 의한 서비스 개발 현장 등에서 많이 사용하는 버전 관리 시스템임\n",
        "깃 허브는 깃의 구조를 이용하며 전 세계인이 자신의 코드를 공유, 공개할 수 있도록 한 웹 서비스명\n",
        "https://github.com/\n",
        "GitHub에서 작성된 리포지터리(저장고)는 무료의 경우 누구에게나 공개되지만, 유료의 경우는 지정한 사용자만이 접근할 수 있는 개인적인 리포지터리를 만들 수 있다. GitHub는 텐서플로나 Keras등의 오픈 소스 프로젝트 공개에도 이용\n",
        "이 GitHub에 코랩 노트북을 올림으로써 노트북을 일반에게 공개하거나 팀내에서 공유 가능\n",
        "\n"
      ],
      "metadata": {
        "id": "t_P_nRmf33R2"
      }
    },
    {
      "cell_type": "code",
      "execution_count": null,
      "metadata": {
        "colab": {
          "base_uri": "https://localhost:8080/"
        },
        "id": "Q1PeKuhmyldk",
        "outputId": "9d51d1ed-3692-484a-f2e9-1cacab5aa2b4"
      },
      "outputs": [
        {
          "output_type": "stream",
          "name": "stdout",
          "text": [
            "Hello World!\n"
          ]
        }
      ],
      "source": [
        "print(\"Hello World!\")"
      ]
    },
    {
      "cell_type": "markdown",
      "source": [
        "파이썬은 다루기 쉽고 인공지능 및 수학과의 궁합이 좋은 프로그래밍 언어 간단하고 가독성이 높고, 비교적 다루기 쉬운 프로그래밍 언어 오픈소스로 누구나 무료로 다운로드할 수 있어서 전 세계에서 널리 사용 다른 언어와 비교했을 경우 수치 계산이나 데이터 해석에 강점이 있음 인공지능 개발에서 표준이 되고있음 문법이 간결하여 프로그래밍을 처음 시작하는 분에게도 파이썬 추천 객체지향도 사용가능, 고도로 추상화된 코드를 사용 가능"
      ],
      "metadata": {
        "id": "nDHoQkdz4QCX"
      }
    },
    {
      "cell_type": "code",
      "source": [
        "a= 123  #정수형(int)\n",
        "b-123.456 #부동소수점형(float)\n",
        "c='Hello World!'  #문자열형(str)\n",
        "d=True  #논리형(bool)\n",
        "e=[1,2,3]   #리스트형(list)"
      ],
      "metadata": {
        "id": "-QtgfFFx4V9h"
      },
      "execution_count": null,
      "outputs": []
    },
    {
      "cell_type": "markdown",
      "source": [
        "'#'은 주석을 나타냄 #이후의 코드로서 인식되지 않음\n",
        "bool형의 값은 수치로 다룰수 있음 True는 1이고 False는 0\n",
        "+연산자를 사용해서 True와 False를 더하는데 결과는 1임\n"
      ],
      "metadata": {
        "id": "09GwgR0S32ET"
      }
    },
    {
      "cell_type": "code",
      "source": [
        "a=True;b=False\n",
        "print(a+b)"
      ],
      "metadata": {
        "colab": {
          "base_uri": "https://localhost:8080/"
        },
        "id": "t3rEtY6g5FoO",
        "outputId": "176e2c59-ee31-400f-ac31-07159c0af870"
      },
      "execution_count": null,
      "outputs": [
        {
          "output_type": "stream",
          "name": "stdout",
          "text": [
            "1\n"
          ]
        }
      ]
    },
    {
      "cell_type": "markdown",
      "source": [
        ";의 세미콜론을 사용해 1행 내에서 여러개의 처리를 쓸수 있음\n",
        "e를 시용한 소수의 표기를 할수 있음\n"
      ],
      "metadata": {
        "id": "u_PXNacJ5i2w"
      }
    },
    {
      "cell_type": "code",
      "source": [
        "1.5e6   #1.5x10의 6승 150000\n",
        "1.5e-6  #1.5x6의 -6승 0.0000015"
      ],
      "metadata": {
        "id": "4XNvml4K5xnZ"
      },
      "execution_count": null,
      "outputs": []
    },
    {
      "cell_type": "code",
      "source": [
        "a=3;b=5\n",
        "c=a+b\n",
        "print(c)\n",
        "d=a<b     #비교(a는 b보다 작은가)\n",
        "print(d)\n",
        "e=3<4 and 4<5   #논리곱\n",
        "print(e)"
      ],
      "metadata": {
        "colab": {
          "base_uri": "https://localhost:8080/"
        },
        "id": "XVJMtNHy5_Tx",
        "outputId": "cd60d12b-a443-470a-8da2-fcdbc2500cb6"
      },
      "execution_count": null,
      "outputs": [
        {
          "output_type": "stream",
          "name": "stdout",
          "text": [
            "8\n",
            "True\n",
            "True\n"
          ]
        }
      ]
    },
    {
      "cell_type": "markdown",
      "source": [
        "산술 연산자\n",
        "+: 덧셈\n",
        "-: 뺄셈\n",
        "*: 곱셈\n",
        "/ : 나눗셈(소수)\n",
        "// : 나눗셈(정수)\n",
        "% : 나머지\n",
        "** : 거듭제곱\n",
        "비교 연산자\n",
        "< : 작다\n",
        "'>': 크다\n",
        "'>=': 이상\n",
        "<=: 이하\n",
        "== : 같다\n",
        "!= 같지 않다\n",
        "논리 연산자\n",
        "and : 양쪽을 만족 한다\n",
        "or : 어느 한쪽을 만족 한다\n",
        "not : 만족하지 않는다"
      ],
      "metadata": {
        "id": "b3z6MBBE5-d8"
      }
    },
    {
      "cell_type": "code",
      "source": [
        "a=[1,2,3,4,5] #리스트 작성\n",
        "b=a[3]    #인덱스가 3인 요소를 취득\n",
        "print(b)\n",
        "a.append(6)   #끝에 요소를 추가\n",
        "print(a)\n",
        "\n",
        "a[2]=99     #요소를 교체\n",
        "print(a)\n"
      ],
      "metadata": {
        "colab": {
          "base_uri": "https://localhost:8080/"
        },
        "id": "O05Okf0O7uQq",
        "outputId": "cae3330f-21b3-4f26-f07d-cc6df0381cd5"
      },
      "execution_count": null,
      "outputs": [
        {
          "output_type": "stream",
          "name": "stdout",
          "text": [
            "4\n",
            "[1, 2, 3, 4, 5, 6]\n",
            "[1, 2, 99, 4, 5, 6]\n"
          ]
        }
      ]
    },
    {
      "cell_type": "code",
      "source": [
        "a= (1,2,3,4,5)    #튜플의 작성\n",
        "b=a[2]    #인덱스가 2인 요소를 취득\n",
        "print(b)\n",
        "#요소가 하나뿐이 튜플은 마지막에 , 가 필요\n",
        "(2,)"
      ],
      "metadata": {
        "colab": {
          "base_uri": "https://localhost:8080/"
        },
        "id": "HNy68Qav8WzP",
        "outputId": "ca0f60a3-8808-4acc-f256-c9f39dbd4f1c"
      },
      "execution_count": null,
      "outputs": [
        {
          "output_type": "stream",
          "name": "stdout",
          "text": [
            "3\n"
          ]
        },
        {
          "output_type": "execute_result",
          "data": {
            "text/plain": [
              "(2,)"
            ]
          },
          "metadata": {},
          "execution_count": 8
        }
      ]
    },
    {
      "cell_type": "code",
      "source": [
        "a=[1,2,3] #리스트\n",
        "a1,a2,a3=a\n",
        "print(a1,a2,a3)\n",
        "\n",
        "b=(4,5,6)\n",
        "b1,b2,b3= b\n",
        "print(b1,b2,b3)"
      ],
      "metadata": {
        "colab": {
          "base_uri": "https://localhost:8080/"
        },
        "id": "rTt2cZ3D8vj5",
        "outputId": "e40a9de3-cde1-49c3-ea03-3fa1d1b8b082"
      },
      "execution_count": null,
      "outputs": [
        {
          "output_type": "stream",
          "name": "stdout",
          "text": [
            "1 2 3\n",
            "4 5 6\n"
          ]
        }
      ]
    },
    {
      "cell_type": "code",
      "source": [
        "a={'Artificial':1,'Intelligence':2} #사전의 작성\n",
        "print(a['Artificial'])  #'Artificial'키를 가진 값을 취득\n",
        "a['Intelligence']=7 #값의 교체\n",
        "print(a)\n",
        "a['ML']=3 #요소의 추가\n",
        "print(a)"
      ],
      "metadata": {
        "colab": {
          "base_uri": "https://localhost:8080/"
        },
        "id": "u8Mv08Ot9TBd",
        "outputId": "719270a2-3f5c-4502-dfac-620b509875b2"
      },
      "execution_count": null,
      "outputs": [
        {
          "output_type": "stream",
          "name": "stdout",
          "text": [
            "1\n",
            "{'Artificial': 1, 'Intelligence': 7}\n",
            "{'Artificial': 1, 'Intelligence': 7, 'ML': 3}\n"
          ]
        }
      ]
    }
  ]
}